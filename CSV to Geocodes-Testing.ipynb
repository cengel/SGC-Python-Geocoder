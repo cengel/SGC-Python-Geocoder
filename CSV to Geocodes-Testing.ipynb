{
 "cells": [
  {
   "cell_type": "markdown",
   "metadata": {},
   "source": [
    "## Imports & Job Parameters\n",
    "\n",
    "These get adjusted based upon how many records you want per chunk, desired CRS, etc..."
   ]
  },
  {
   "cell_type": "code",
   "execution_count": 6,
   "metadata": {},
   "outputs": [],
   "source": [
    "import requests\n",
    "import json\n",
    "#import csv\n",
    "import socket\n",
    "#from datetime import datetime\n",
    "#from itertools import islice\n",
    "import pandas as pd\n",
    "\n",
    "#Input csv file\n",
    "#inCSV = open(\"testAddresses.csv\")\n",
    "inCSV = \"testAddresses.csv\"\n",
    "# output spatial reference id \n",
    "outsrid = '4326'\n",
    "# Total number of records to submit\n",
    "sliceSize = 20\n",
    "# Number of records to submit per GET request\n",
    "chunkSize = 5"
   ]
  },
  {
   "cell_type": "markdown",
   "metadata": {},
   "source": [
    "## Token request"
   ]
  },
  {
   "cell_type": "code",
   "execution_count": null,
   "metadata": {},
   "outputs": [],
   "source": [
    "# api-endpoint for requesting a token from locator.stanford.edu\n",
    "\n",
    "tokenURL = \"https://locator.stanford.edu/arcgis/tokens/generateToken\"\n",
    "payload = \"username=win%5C<your SUNetID>&password=<your password>%40&client=requestip&expiration=86400&f=json\"\n",
    "headers = {\n",
    "    'Content-Type': \"application/x-www-form-urlencoded\",\n",
    "    'User-Agent': \"PostmanRuntime/7.13.0\",\n",
    "    'Accept': \"*/*\",\n",
    "    'Cache-Control': \"no-cache\",\n",
    "    'Postman-Token': \"2686259f-3e03-44d3-920e-abd43ae0c908,b4f42197-a2ae-4ef3-9dca-c0f5932bb21b\",\n",
    "    'Host': \"locator.stanford.edu\",\n",
    "    'accept-encoding': \"gzip, deflate\",\n",
    "    'content-length': \"81\",\n",
    "    'Connection': \"keep-alive\",\n",
    "    'cache-control': \"no-cache\"\n",
    "    }\n",
    "# request token from locator.stanford.edu/arcgis/tokens using REST POST\n",
    "mytoken = requests.post( tokenURL, data=payload, headers=headers).json()['token']"
   ]
  },
  {
   "cell_type": "markdown",
   "metadata": {},
   "source": [
    "## Alternatively: request token at https://locator.stanford.edu/arcgis/tokens/generateToken"
   ]
  },
  {
   "cell_type": "code",
   "execution_count": 3,
   "metadata": {},
   "outputs": [],
   "source": [
    "# set token manually\n",
    "mytoken = \"Vy4qADiBl8huHLW7zcSyoAqvtl0nkOfAihktgGbza0WzvIUkuBxIsXVO0_bI9iqb\""
   ]
  },
  {
   "cell_type": "markdown",
   "metadata": {},
   "source": [
    "## Parameters for the geocoding REST POST request"
   ]
  },
  {
   "cell_type": "code",
   "execution_count": 4,
   "metadata": {},
   "outputs": [],
   "source": [
    "# api-endpoint for geocoding US Street Addresses with locator.stanford.edu\n",
    "\n",
    "url = 'https://locator.stanford.edu/arcgis/rest/services/geocode/USA_StreetAddress/GeocodeServer/geocodeAddresses'\n",
    "\n",
    "#output format\n",
    "format = 'json'\n",
    "\n",
    "# header\n",
    "header = {'Content-Type': 'application/x-www-form-urlencoded'}\n",
    "\n",
    "# params data to be sent to api \n",
    "params ={'outSR':outsrid,'f':format,'token':mytoken}"
   ]
  },
  {
   "cell_type": "markdown",
   "metadata": {},
   "source": [
    "## Make a new N record CSV from the oneMillionAddresses.csv then chunk & submit geocodes to locator.stanford.edu, then write response to new csv"
   ]
  },
  {
   "cell_type": "code",
   "execution_count": 7,
   "metadata": {},
   "outputs": [
    {
     "name": "stdout",
     "output_type": "stream",
     "text": [
      "Finished in: 0:00:01.504678\n"
     ]
    }
   ],
   "source": [
    "#Job startTime\n",
    "jobStartTime = datetime.now()\n",
    "\n",
    "# open outCSV in write mode, so it will override existing outfiles\n",
    "with open('outCSV.csv', 'w') as outf:\n",
    "    chunk_df = pd.DataFrame([])\n",
    "    \n",
    "    # read slice in with correct data types and write it to slicefile\n",
    "    for slice in pd.read_csv(inCSV, chunksize=sliceSize, dtype={\n",
    "            \"OBJECTID\" : int,\n",
    "            \"ZIP\" : str\n",
    "        }):\n",
    "        slice.to_csv('slicedAddresses.csv', index=False)\n",
    "    \n",
    "        # now process chunks from slice and corece to correct data types\n",
    "        for chunk in pd.read_csv('slicedAddresses.csv', chunksize=chunkSize, dtype={\n",
    "            \"OBJECTID\" : int,\n",
    "            \"ZIP\" : str\n",
    "            }):\n",
    "            # make it json \n",
    "            chunk_dict =  chunk.to_dict('records')       \n",
    "            # Nest each record under an attribute object, iterating through the dictionary           \n",
    "            attribute = [{'attributes': row } for row in chunk_dict]\n",
    "            addresses = json.dumps({'records':attribute}) \n",
    "        \n",
    "            # send it to geocoding\n",
    "            r = requests.post(url, headers = header, data = { 'addresses':addresses,'outSR':outsrid,'f':format,'token':mytoken})\n",
    "            parsedJson = json.loads(r.text)\n",
    "\n",
    "            # convert json response back to tabular\n",
    "            for row in pd.DataFrame(parsedJson[\"locations\"])['attributes']:\n",
    "                r = pd.DataFrame(data=row, index=[0])\n",
    "                chunk_df = chunk_df.append(r)          \n",
    "            \n",
    "    # append to outCSV table        \n",
    "    chunk_df.to_csv(outf, mode='a', index=False, header=not outf.tell())\n",
    "\n",
    "jobEndTime = datetime.now()    \n",
    "print(\"Finished in: \"+str(jobEndTime-jobStartTime))  "
   ]
  },
  {
   "cell_type": "code",
   "execution_count": null,
   "metadata": {},
   "outputs": [],
   "source": []
  }
 ],
 "metadata": {
  "kernelspec": {
   "display_name": "Python 3",
   "language": "python",
   "name": "python3"
  },
  "language_info": {
   "codemirror_mode": {
    "name": "ipython",
    "version": 3
   },
   "file_extension": ".py",
   "mimetype": "text/x-python",
   "name": "python",
   "nbconvert_exporter": "python",
   "pygments_lexer": "ipython3",
   "version": "3.7.3"
  }
 },
 "nbformat": 4,
 "nbformat_minor": 2
}
