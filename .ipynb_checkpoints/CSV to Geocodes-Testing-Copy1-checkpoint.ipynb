{
 "cells": [
  {
   "cell_type": "markdown",
   "metadata": {},
   "source": [
    "## Imports & Job Parameters\n",
    "\n",
    "These get adjusted based upon how many records you want per chunk, desired CRS, etc..."
   ]
  },
  {
   "cell_type": "code",
   "execution_count": 11,
   "metadata": {},
   "outputs": [],
   "source": [
    "import requests\n",
    "import json\n",
    "#import csv\n",
    "import socket\n",
    "from datetime import datetime\n",
    "#from itertools import islice\n",
    "import pandas as pd\n",
    "\n",
    "#Input csv file\n",
    "#inCSV = open(\"testAddresses.csv\")\n",
    "inCSV = \"testAddresses.csv\"\n",
    "# output spatial reference id \n",
    "outsrid = '4326'\n",
    "# Total number of records to submit\n",
    "#sliceSize = 20\n",
    "# Number of records to submit per GET request\n",
    "#chunkSize = 5\n",
    "\n",
    "# an array of different slice sizes\n",
    "sliceSizes = list(range(10, 50, 10))\n",
    "# an array of different chunk sizes\n",
    "chunkSizes = list(range(2, 11, 2))"
   ]
  },
  {
   "cell_type": "markdown",
   "metadata": {},
   "source": [
    "## Token request"
   ]
  },
  {
   "cell_type": "code",
   "execution_count": null,
   "metadata": {},
   "outputs": [],
   "source": [
    "# api-endpoint for requesting a token from locator.stanford.edu\n",
    "\n",
    "tokenURL = \"https://locator.stanford.edu/arcgis/tokens/generateToken\"\n",
    "payload = \"username=win%5C<your SUNetID>&password=<your password>%40&client=requestip&expiration=86400&f=json\"\n",
    "headers = {\n",
    "    'Content-Type': \"application/x-www-form-urlencoded\",\n",
    "    'User-Agent': \"PostmanRuntime/7.13.0\",\n",
    "    'Accept': \"*/*\",\n",
    "    'Cache-Control': \"no-cache\",\n",
    "    'Postman-Token': \"2686259f-3e03-44d3-920e-abd43ae0c908,b4f42197-a2ae-4ef3-9dca-c0f5932bb21b\",\n",
    "    'Host': \"locator.stanford.edu\",\n",
    "    'accept-encoding': \"gzip, deflate\",\n",
    "    'content-length': \"81\",\n",
    "    'Connection': \"keep-alive\",\n",
    "    'cache-control': \"no-cache\"\n",
    "    }\n",
    "# request token from locator.stanford.edu/arcgis/tokens using REST POST\n",
    "mytoken = requests.post( tokenURL, data=payload, headers=headers).json()['token']"
   ]
  },
  {
   "cell_type": "markdown",
   "metadata": {},
   "source": [
    "## Alternatively: request token at https://locator.stanford.edu/arcgis/tokens/generateToken"
   ]
  },
  {
   "cell_type": "code",
   "execution_count": 2,
   "metadata": {},
   "outputs": [],
   "source": [
    "# set token manually\n",
    "mytoken = \"lg0kiXTEaYIy5JNApT3hTzvU97cUpC3d1xrxLdw6EN7yT7aQjfQ4I6ENvLqWkyKP\""
   ]
  },
  {
   "cell_type": "markdown",
   "metadata": {},
   "source": [
    "## Parameters for the geocoding REST POST request"
   ]
  },
  {
   "cell_type": "code",
   "execution_count": 3,
   "metadata": {},
   "outputs": [],
   "source": [
    "# api-endpoint for geocoding US Street Addresses with locator.stanford.edu\n",
    "\n",
    "url = 'https://locator.stanford.edu/arcgis/rest/services/geocode/USA_StreetAddress/GeocodeServer/geocodeAddresses'\n",
    "\n",
    "#output format\n",
    "format = 'json'\n",
    "\n",
    "# header\n",
    "header = {'Content-Type': 'application/x-www-form-urlencoded'}\n",
    "\n",
    "# params data to be sent to api \n",
    "params ={'outSR':outsrid,'f':format,'token':mytoken}"
   ]
  },
  {
   "cell_type": "markdown",
   "metadata": {},
   "source": [
    "## Make a new N record CSV from the oneMillionAddresses.csv then chunk & submit geocodes to locator.stanford.edu, then write response to new csv"
   ]
  },
  {
   "cell_type": "code",
   "execution_count": null,
   "metadata": {},
   "outputs": [],
   "source": [
    "#Job startTime\n",
    "jobStartTime = datetime.now()\n",
    "\n",
    "# open outCSV in write mode, so it will override existing outfiles\n",
    "with open('outCSV.csv', 'w') as outf:\n",
    "    chunk_df = pd.DataFrame([])\n",
    "    \n",
    "    # read slice in with correct data types and write it to slicefile\n",
    "    for slice in pd.read_csv(inCSV, chunksize=sliceSize, dtype={\n",
    "            \"OBJECTID\" : int,\n",
    "            \"ZIP\" : str\n",
    "        }):\n",
    "        slice.to_csv('slicedAddresses.csv', index=False)\n",
    "    \n",
    "        # now process chunks from slice and corece to correct data types\n",
    "        for chunk in pd.read_csv('slicedAddresses.csv', chunksize=chunkSize, dtype={\n",
    "            \"OBJECTID\" : int,\n",
    "            \"ZIP\" : str\n",
    "            }):\n",
    "            # make it json \n",
    "            chunk_dict =  chunk.to_dict('records')       \n",
    "            # Nest each record under an attribute object, iterating through the dictionary           \n",
    "            attribute = [{'attributes': row } for row in chunk_dict]\n",
    "            addresses = json.dumps({'records':attribute}) \n",
    "        \n",
    "            # send it to geocoding\n",
    "            r = requests.post(url, headers = header, data = { 'addresses':addresses,'outSR':outsrid,'f':format,'token':mytoken})\n",
    "            parsedJson = json.loads(r.text)\n",
    "\n",
    "            # convert json response back to tabular\n",
    "            for row in pd.DataFrame(parsedJson[\"locations\"])['attributes']:\n",
    "                r = pd.DataFrame(data=row, index=[0])\n",
    "                chunk_df = chunk_df.append(r)          \n",
    "            \n",
    "    # append to outCSV table        \n",
    "    chunk_df.to_csv(outf, mode='a', index=False, header=not outf.tell())\n",
    "\n",
    "jobEndTime = datetime.now()    \n",
    "print(\"Finished in: \"+str(jobEndTime-jobStartTime))  "
   ]
  },
  {
   "cell_type": "markdown",
   "metadata": {},
   "source": [
    "## Benchmarking"
   ]
  },
  {
   "cell_type": "code",
   "execution_count": 3,
   "metadata": {},
   "outputs": [],
   "source": [
    "# an array of different slice sizes - for example [10, 20, 30, 40]\n",
    "sliceSizes = list(range(10, 50, 10))\n",
    "# an array of different chunk sizes - for example [2, 4, 6, 8, 10]\n",
    "chunkSizes = list(range(2, 11, 2))"
   ]
  },
  {
   "cell_type": "code",
   "execution_count": 12,
   "metadata": {},
   "outputs": [
    {
     "name": "stdout",
     "output_type": "stream",
     "text": [
      "    sliceSize  chunkSize  jobTotalSeconds  recordsPerSecond  \\\n",
      "0          10          2         0.374532         26.699988   \n",
      "1          10          4         0.562373         17.781793   \n",
      "2          10          6         0.765071         13.070682   \n",
      "3          10          8         0.885310         11.295478   \n",
      "4          10         10         1.013583          9.865990   \n",
      "5          20          2         0.326085         61.333701   \n",
      "6          20          4         0.515555         38.793145   \n",
      "7          20          6         0.684508         29.218066   \n",
      "8          20          8         0.809179         24.716410   \n",
      "9          20         10         1.017496         19.656097   \n",
      "10         30          2         0.971102         30.892738   \n",
      "11         30          4         1.564072         19.180703   \n",
      "12         30          6         1.885112         15.914174   \n",
      "13         30          8         2.220708         13.509205   \n",
      "14         30         10         2.475234         12.120066   \n",
      "15         40          2         0.358496        111.577256   \n",
      "16         40          4         0.531540         75.253038   \n",
      "17         40          6         0.702007         56.979489   \n",
      "18         40          8         0.809256         49.428117   \n",
      "19         40         10         0.919222         43.515059   \n",
      "\n",
      "    millionRecordTime          hostname         IPAddr  \n",
      "0           10.403667  DN0a6290be.SUNet  10.98.144.190  \n",
      "1           15.621472  DN0a6290be.SUNet  10.98.144.190  \n",
      "2           21.251972  DN0a6290be.SUNet  10.98.144.190  \n",
      "3           24.591944  DN0a6290be.SUNet  10.98.144.190  \n",
      "4           28.155083  DN0a6290be.SUNet  10.98.144.190  \n",
      "5            4.528958  DN0a6290be.SUNet  10.98.144.190  \n",
      "6            7.160486  DN0a6290be.SUNet  10.98.144.190  \n",
      "7            9.507056  DN0a6290be.SUNet  10.98.144.190  \n",
      "8           11.238597  DN0a6290be.SUNet  10.98.144.190  \n",
      "9           14.131889  DN0a6290be.SUNet  10.98.144.190  \n",
      "10           8.991685  DN0a6290be.SUNet  10.98.144.190  \n",
      "11          14.482148  DN0a6290be.SUNet  10.98.144.190  \n",
      "12          17.454741  DN0a6290be.SUNet  10.98.144.190  \n",
      "13          20.562111  DN0a6290be.SUNet  10.98.144.190  \n",
      "14          22.918833  DN0a6290be.SUNet  10.98.144.190  \n",
      "15           2.489556  DN0a6290be.SUNet  10.98.144.190  \n",
      "16           3.691250  DN0a6290be.SUNet  10.98.144.190  \n",
      "17           4.875049  DN0a6290be.SUNet  10.98.144.190  \n",
      "18           5.619833  DN0a6290be.SUNet  10.98.144.190  \n",
      "19           6.383486  DN0a6290be.SUNet  10.98.144.190  \n"
     ]
    }
   ],
   "source": [
    "log_list = []\n",
    "hostname = socket.gethostname()    \n",
    "IPAddr = socket.gethostbyname(hostname)    \n",
    "\n",
    "for sliceSize in sliceSizes:\n",
    "    \n",
    "    #Job startTime\n",
    "    jobStartTime = datetime.now()\n",
    "    \n",
    "    # open outCSV in write mode, so it will override existing outfiles\n",
    "    with open('outCSV.csv', 'w') as outf:\n",
    "        chunk_df = pd.DataFrame([])\n",
    "    \n",
    "        # read slice in with correct data types and write it to slicefile\n",
    "        for slice in pd.read_csv(inCSV, chunksize=sliceSize, dtype={\n",
    "                \"OBJECTID\" : int,\n",
    "                \"ZIP\" : str\n",
    "            }):\n",
    "            slice.to_csv('slicedAddresses.csv', index=False)\n",
    "\n",
    "        for chunkSize in chunkSizes:\n",
    "        \n",
    "            # read it in from disk (slice)\n",
    "            # do geocoding  using chunkSize\n",
    "            # write to outfile\n",
    "            # now process chunks from slice and corece to correct data types\n",
    "            for chunk in pd.read_csv('slicedAddresses.csv', chunksize=chunkSize, dtype={\n",
    "                \"OBJECTID\" : int,\n",
    "                \"ZIP\" : str\n",
    "                }):\n",
    "                # make it json \n",
    "                chunk_dict =  chunk.to_dict('records')       \n",
    "                # Nest each record under an attribute object, iterating through the dictionary           \n",
    "                attribute = [{'attributes': row } for row in chunk_dict]\n",
    "                addresses = json.dumps({'records':attribute}) \n",
    "\n",
    "                # send it to geocoding\n",
    "                r = requests.post(url, headers = header, data = { 'addresses':addresses,'outSR':outsrid,'f':format,'token':mytoken})\n",
    "                parsedJson = json.loads(r.text)\n",
    "\n",
    "                # convert json response back to tabular\n",
    "                for row in pd.DataFrame(parsedJson[\"locations\"])['attributes']:\n",
    "                    r = pd.DataFrame(data=row, index=[0])\n",
    "                    chunk_df = chunk_df.append(r)          \n",
    "            \n",
    "            # compile log data\n",
    "            jobEndTime = datetime.now()\n",
    "            jobTotalTime = jobEndTime-jobStartTime\n",
    "            jobTotalSeconds = jobTotalTime.total_seconds()\n",
    "            recordsPerSecond = (sliceSize/jobTotalSeconds)\n",
    "            millionRecordTime = (((1000000/sliceSize)*jobTotalSeconds)/3600)               \n",
    "            log_list.append([sliceSize, chunkSize, jobTotalSeconds, recordsPerSecond, \n",
    "                             millionRecordTime, hostname, IPAddr])\n",
    "            \n",
    "        # append to outCSV table        \n",
    "        chunk_df.to_csv(outf, mode='a', index=False, header=not outf.tell())\n",
    "\n",
    "log_df = pd.DataFrame(log_list, columns=['sliceSize', 'chunkSize', 'jobTotalSeconds', 'recordsPerSecond', \n",
    "                                         'millionRecordTime', 'hostname', 'IPAddr'])\n",
    "\n",
    "print(log_df)"
   ]
  },
  {
   "cell_type": "code",
   "execution_count": 13,
   "metadata": {
    "scrolled": true
   },
   "outputs": [
    {
     "data": {
      "text/plain": [
       "<matplotlib.axes._subplots.AxesSubplot at 0x1167c9a20>"
      ]
     },
     "execution_count": 13,
     "metadata": {},
     "output_type": "execute_result"
    },
    {
     "data": {
      "image/png": "[encoded data removed]",
      "text/plain": [
       "<Figure size 432x288 with 1 Axes>"
      ]
     },
     "metadata": {
      "needs_background": "light"
     },
     "output_type": "display_data"
    }
   ],
   "source": [
    "# plot log\n",
    "import seaborn as sns\n",
    "sns.lineplot(data=log_df, x='chunkSize', y='jobTotalSeconds', hue='sliceSize')"
   ]
  },
  {
   "cell_type": "code",
   "execution_count": 14,
   "metadata": {},
   "outputs": [],
   "source": [
    "# save log to disk\n",
    "with open('logfile.csv', 'w') as outf:\n",
    "    log_df.to_csv(outf)"
   ]
  },
  {
   "cell_type": "code",
   "execution_count": null,
   "metadata": {},
   "outputs": [],
   "source": []
  }
 ],
 "metadata": {
  "kernelspec": {
   "display_name": "Python 3",
   "language": "python",
   "name": "python3"
  },
  "language_info": {
   "codemirror_mode": {
    "name": "ipython",
    "version": 3
   },
   "file_extension": ".py",
   "mimetype": "text/x-python",
   "name": "python",
   "nbconvert_exporter": "python",
   "pygments_lexer": "ipython3",
   "version": "3.7.3"
  }
 },
 "nbformat": 4,
 "nbformat_minor": 2
}
